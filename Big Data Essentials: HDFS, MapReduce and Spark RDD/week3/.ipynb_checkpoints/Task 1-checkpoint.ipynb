{
 "cells": [
  {
   "cell_type": "code",
   "execution_count": 1,
   "metadata": {},
   "outputs": [
    {
     "name": "stdout",
     "output_type": "stream",
     "text": [
      "Writing mapper.py\n"
     ]
    }
   ],
   "source": [
    "%%writefile mapper.py\n",
    "\n",
    "import sys\n",
    "import re\n",
    "\n",
    "reload(sys)\n",
    "sys.setdefaultencoding('utf-8') # required to convert to unicode\n",
    "\n",
    "for line in sys.stdin:\n",
    "    try:\n",
    "        article_id, text = unicode(line.strip()).split('\\t', 1)\n",
    "    except ValueError as e:\n",
    "        continue\n",
    "    words = re.split(\"\\W*\\s+\\W*\", text, flags=re.UNICODE)\n",
    "    for word in words:\n",
    "        print >> sys.stderr, \"reporter:counter:Wiki stats,Total words,%d\" % 1\n",
    "        print \"%s\\t%d\" % (word.lower(), 1)"
   ]
  },
  {
   "cell_type": "code",
   "execution_count": 2,
   "metadata": {},
   "outputs": [
    {
     "name": "stdout",
     "output_type": "stream",
     "text": [
      "Writing reducer.py\n"
     ]
    }
   ],
   "source": [
    "%%writefile reducer.py\n",
    "\n",
    "import sys\n",
    "\n",
    "current_key = None\n",
    "word_sum = 0"
   ]
  },
  {
   "cell_type": "code",
   "execution_count": 3,
   "metadata": {},
   "outputs": [
    {
     "name": "stdout",
     "output_type": "stream",
     "text": [
      "Appending to reducer.py\n"
     ]
    }
   ],
   "source": [
    "%%writefile -a reducer.py\n",
    "\n",
    "for line in sys.stdin:\n",
    "    try:\n",
    "        key, count = line.strip().split('\\t', 1)\n",
    "        count = int(count)\n",
    "    except ValueError as e:\n",
    "        continue\n",
    "    if current_key != key:\n",
    "        if current_key:\n",
    "            print \"%s\\t%d\" % (current_key, word_sum)\n",
    "        word_sum = 0\n",
    "        current_key = key\n",
    "    word_sum += count\n",
    "\n",
    "if current_key:\n",
    "    print \"%s\\t%d\" % (current_key, word_sum)"
   ]
  },
  {
   "cell_type": "code",
   "execution_count": 8,
   "metadata": {},
   "outputs": [
    {
     "name": "stdout",
     "output_type": "stream",
     "text": [
      "Found 1 items\r\n",
      "drwxrwxrwx   - jovyan supergroup          0 2017-10-17 13:15 /data/wiki/en_articles_part\r\n"
     ]
    }
   ],
   "source": [
    "! hdfs dfs -ls /data/wiki"
   ]
  },
  {
   "cell_type": "code",
   "execution_count": 12,
   "metadata": {},
   "outputs": [
    {
     "name": "stdout",
     "output_type": "stream",
     "text": [
      "0%however\t1\n",
      "0&\\mathrm{if\t1\n",
      "0(8)320-1234\t1\n",
      "0)).(1\t2\n",
      "0,03\t1\n",
      "0,1,...,n\t1\n",
      "0,1,0\t1\n",
      "0,1,\\dots,n\t1\n",
      "0,5\t1\n",
      "0,50\t1\n"
     ]
    },
    {
     "name": "stderr",
     "output_type": "stream",
     "text": [
      "rm: `wordcount_result_1509369959711180': No such file or directory\n",
      "17/10/30 13:26:10 INFO client.RMProxy: Connecting to ResourceManager at /0.0.0.0:8032\n",
      "17/10/30 13:26:11 INFO client.RMProxy: Connecting to ResourceManager at /0.0.0.0:8032\n",
      "17/10/30 13:26:13 INFO mapred.FileInputFormat: Total input files to process : 1\n",
      "17/10/30 13:26:13 INFO mapreduce.JobSubmitter: number of splits:2\n",
      "17/10/30 13:26:14 INFO mapreduce.JobSubmitter: Submitting tokens for job: job_1509358298059_0004\n",
      "17/10/30 13:26:15 INFO impl.YarnClientImpl: Submitted application application_1509358298059_0004\n",
      "17/10/30 13:26:15 INFO mapreduce.Job: The url to track the job: http://88af4050f0b1:8088/proxy/application_1509358298059_0004/\n",
      "17/10/30 13:26:15 INFO mapreduce.Job: Running job: job_1509358298059_0004\n",
      "17/10/30 13:26:31 INFO mapreduce.Job: Job job_1509358298059_0004 running in uber mode : false\n",
      "17/10/30 13:26:31 INFO mapreduce.Job:  map 0% reduce 0%\n",
      "17/10/30 13:26:59 INFO mapreduce.Job:  map 5% reduce 0%\n",
      "17/10/30 13:27:05 INFO mapreduce.Job:  map 7% reduce 0%\n",
      "17/10/30 13:27:12 INFO mapreduce.Job:  map 9% reduce 0%\n",
      "17/10/30 13:27:18 INFO mapreduce.Job:  map 12% reduce 0%\n",
      "17/10/30 13:27:24 INFO mapreduce.Job:  map 15% reduce 0%\n",
      "17/10/30 13:27:30 INFO mapreduce.Job:  map 18% reduce 0%\n",
      "17/10/30 13:27:36 INFO mapreduce.Job:  map 21% reduce 0%\n",
      "17/10/30 13:27:42 INFO mapreduce.Job:  map 24% reduce 0%\n",
      "17/10/30 13:27:48 INFO mapreduce.Job:  map 27% reduce 0%\n",
      "17/10/30 13:27:55 INFO mapreduce.Job:  map 29% reduce 0%\n",
      "17/10/30 13:28:00 INFO mapreduce.Job:  map 31% reduce 0%\n",
      "17/10/30 13:28:06 INFO mapreduce.Job:  map 33% reduce 0%\n",
      "17/10/30 13:28:12 INFO mapreduce.Job:  map 36% reduce 0%\n",
      "17/10/30 13:28:19 INFO mapreduce.Job:  map 39% reduce 0%\n",
      "17/10/30 13:28:25 INFO mapreduce.Job:  map 41% reduce 0%\n",
      "17/10/30 13:28:31 INFO mapreduce.Job:  map 42% reduce 0%\n",
      "17/10/30 13:28:37 INFO mapreduce.Job:  map 44% reduce 0%\n",
      "17/10/30 13:28:43 INFO mapreduce.Job:  map 46% reduce 0%\n",
      "17/10/30 13:28:50 INFO mapreduce.Job:  map 47% reduce 0%\n",
      "17/10/30 13:29:13 INFO mapreduce.Job:  map 50% reduce 0%\n",
      "17/10/30 13:29:19 INFO mapreduce.Job:  map 53% reduce 0%\n",
      "17/10/30 13:29:25 INFO mapreduce.Job:  map 56% reduce 0%\n",
      "17/10/30 13:29:31 INFO mapreduce.Job:  map 58% reduce 0%\n",
      "17/10/30 13:29:38 INFO mapreduce.Job:  map 61% reduce 0%\n",
      "17/10/30 13:29:44 INFO mapreduce.Job:  map 64% reduce 0%\n",
      "17/10/30 13:29:50 INFO mapreduce.Job:  map 67% reduce 0%\n",
      "17/10/30 13:30:10 INFO mapreduce.Job:  map 83% reduce 0%\n",
      "17/10/30 13:30:11 INFO mapreduce.Job:  map 100% reduce 0%\n",
      "17/10/30 13:30:58 INFO mapreduce.Job:  map 100% reduce 13%\n",
      "17/10/30 13:31:06 INFO mapreduce.Job:  map 100% reduce 25%\n",
      "17/10/30 13:31:09 INFO mapreduce.Job:  map 100% reduce 44%\n",
      "17/10/30 13:31:11 INFO mapreduce.Job:  map 100% reduce 53%\n",
      "17/10/30 13:31:12 INFO mapreduce.Job:  map 100% reduce 63%\n",
      "17/10/30 13:31:15 INFO mapreduce.Job:  map 100% reduce 69%\n",
      "17/10/30 13:31:16 INFO mapreduce.Job:  map 100% reduce 71%\n",
      "17/10/30 13:31:17 INFO mapreduce.Job:  map 100% reduce 75%\n",
      "17/10/30 13:31:35 INFO mapreduce.Job:  map 100% reduce 88%\n",
      "17/10/30 13:31:36 INFO mapreduce.Job:  map 100% reduce 100%\n",
      "17/10/30 13:31:37 INFO mapreduce.Job: Job job_1509358298059_0004 completed successfully\n",
      "17/10/30 13:31:38 INFO mapreduce.Job: Counters: 51\n",
      "\tFile System Counters\n",
      "\t\tFILE: Number of bytes read=17954826\n",
      "\t\tFILE: Number of bytes written=28258043\n",
      "\t\tFILE: Number of read operations=0\n",
      "\t\tFILE: Number of large read operations=0\n",
      "\t\tFILE: Number of write operations=0\n",
      "\t\tHDFS: Number of bytes read=76874501\n",
      "\t\tHDFS: Number of bytes written=5370513\n",
      "\t\tHDFS: Number of read operations=30\n",
      "\t\tHDFS: Number of large read operations=0\n",
      "\t\tHDFS: Number of write operations=16\n",
      "\tJob Counters \n",
      "\t\tKilled reduce tasks=1\n",
      "\t\tLaunched map tasks=2\n",
      "\t\tLaunched reduce tasks=9\n",
      "\t\tData-local map tasks=2\n",
      "\t\tTotal time spent by all maps in occupied slots (ms)=434230\n",
      "\t\tTotal time spent by all reduces in occupied slots (ms)=404114\n",
      "\t\tTotal time spent by all map tasks (ms)=434230\n",
      "\t\tTotal time spent by all reduce tasks (ms)=404114\n",
      "\t\tTotal vcore-milliseconds taken by all map tasks=434230\n",
      "\t\tTotal vcore-milliseconds taken by all reduce tasks=404114\n",
      "\t\tTotal megabyte-milliseconds taken by all map tasks=444651520\n",
      "\t\tTotal megabyte-milliseconds taken by all reduce tasks=413812736\n",
      "\tMap-Reduce Framework\n",
      "\t\tMap input records=4100\n",
      "\t\tMap output records=11937375\n",
      "\t\tMap output bytes=97842436\n",
      "\t\tMap output materialized bytes=8952763\n",
      "\t\tInput split bytes=228\n",
      "\t\tCombine input records=11937375\n",
      "\t\tCombine output records=640011\n",
      "\t\tReduce input groups=427175\n",
      "\t\tReduce shuffle bytes=8952763\n",
      "\t\tReduce input records=640011\n",
      "\t\tReduce output records=427175\n",
      "\t\tSpilled Records=1920033\n",
      "\t\tShuffled Maps =16\n",
      "\t\tFailed Shuffles=0\n",
      "\t\tMerged Map outputs=16\n",
      "\t\tGC time elapsed (ms)=11870\n",
      "\t\tCPU time spent (ms)=290720\n",
      "\t\tPhysical memory (bytes) snapshot=1905430528\n",
      "\t\tVirtual memory (bytes) snapshot=19572482048\n",
      "\t\tTotal committed heap usage (bytes)=1587544064\n",
      "\tShuffle Errors\n",
      "\t\tBAD_ID=0\n",
      "\t\tCONNECTION=0\n",
      "\t\tIO_ERROR=0\n",
      "\t\tWRONG_LENGTH=0\n",
      "\t\tWRONG_MAP=0\n",
      "\t\tWRONG_REDUCE=0\n",
      "\tWiki stats\n",
      "\t\tTotal words=11937375\n",
      "\tFile Input Format Counters \n",
      "\t\tBytes Read=76874273\n",
      "\tFile Output Format Counters \n",
      "\t\tBytes Written=5370513\n",
      "17/10/30 13:31:38 INFO streaming.StreamJob: Output directory: wordcount_result_1509369959711180\n",
      "cat: Unable to write to output stream.\n"
     ]
    }
   ],
   "source": [
    "%%bash\n",
    "\n",
    "OUT_DIR=\"wordcount_result_\"$(date +\"%s%6N\")\n",
    "NUM_REDUCERS=8\n",
    "\n",
    "hdfs dfs -rm -r -skipTrash ${OUT_DIR} > /dev/null\n",
    "\n",
    "yarn jar /opt/cloudera/parcels/CDH/lib/hadoop-mapreduce/hadoop-streaming.jar \\\n",
    "    -D mapred.jab.name=\"Streaming wordCount\" \\\n",
    "    -D mapreduce.job.reduces=${NUM_REDUCERS} \\\n",
    "    -files mapper.py,reducer.py \\\n",
    "    -mapper \"python mapper.py\" \\\n",
    "    -combiner \"python reducer.py\" \\\n",
    "    -reducer \"python reducer.py\" \\\n",
    "    -input /data/wiki/en_articles_part \\\n",
    "    -output ${OUT_DIR} > /dev/null\n",
    "\n",
    "hdfs dfs -cat ${OUT_DIR}/part-00000 | head"
   ]
  },
  {
   "cell_type": "code",
   "execution_count": 16,
   "metadata": {},
   "outputs": [
    {
     "name": "stdout",
     "output_type": "stream",
     "text": [
      "Found 9 items\r\n",
      "-rw-r--r--   1 jovyan supergroup          0 2017-10-30 13:31 wordcount_result_1509369959711180/_SUCCESS\r\n",
      "-rw-r--r--   1 jovyan supergroup     670229 2017-10-30 13:30 wordcount_result_1509369959711180/part-00000\r\n",
      "-rw-r--r--   1 jovyan supergroup     675659 2017-10-30 13:31 wordcount_result_1509369959711180/part-00001\r\n",
      "-rw-r--r--   1 jovyan supergroup     664543 2017-10-30 13:31 wordcount_result_1509369959711180/part-00002\r\n",
      "-rw-r--r--   1 jovyan supergroup     673944 2017-10-30 13:31 wordcount_result_1509369959711180/part-00003\r\n",
      "-rw-r--r--   1 jovyan supergroup     665191 2017-10-30 13:31 wordcount_result_1509369959711180/part-00004\r\n",
      "-rw-r--r--   1 jovyan supergroup     679162 2017-10-30 13:31 wordcount_result_1509369959711180/part-00005\r\n",
      "-rw-r--r--   1 jovyan supergroup     668021 2017-10-30 13:31 wordcount_result_1509369959711180/part-00006\r\n",
      "-rw-r--r--   1 jovyan supergroup     673764 2017-10-30 13:31 wordcount_result_1509369959711180/part-00007\r\n"
     ]
    }
   ],
   "source": [
    "! hdfs dfs -ls wordcount_result_1509369959711180/"
   ]
  },
  {
   "cell_type": "code",
   "execution_count": 29,
   "metadata": {},
   "outputs": [
    {
     "name": "stdout",
     "output_type": "stream",
     "text": [
      "Found 4 items\r\n",
      "drwxr-xr-x   - jovyan supergroup          0 2017-10-30 12:58 /user/jovyan/wordcount_result_1509367830113721\r\n",
      "drwxr-xr-x   - jovyan supergroup          0 2017-10-30 13:17 /user/jovyan/wordcount_result_1509368856139411\r\n",
      "drwxr-xr-x   - jovyan supergroup          0 2017-10-30 13:24 /user/jovyan/wordcount_result_1509369039482548\r\n",
      "drwxr-xr-x   - jovyan supergroup          0 2017-10-30 13:31 /user/jovyan/wordcount_result_1509369959711180\r\n"
     ]
    }
   ],
   "source": [
    "! hdfs dfs -ls /user/jovyan"
   ]
  },
  {
   "cell_type": "code",
   "execution_count": 50,
   "metadata": {},
   "outputs": [
    {
     "name": "stdout",
     "output_type": "stream",
     "text": [
      "Overwriting mapper2.py\n"
     ]
    }
   ],
   "source": [
    "%%writefile mapper2.py\n",
    "\n",
    "import sys\n",
    "import re\n",
    "\n",
    "reload(sys)\n",
    "sys.setdefaultencoding('utf-8') # required to convert to unicode\n",
    "\n",
    "for line in sys.stdin:\n",
    "    try:\n",
    "        word, occur = unicode(line.strip()).split('\\t', 1)\n",
    "        occur = int(occur)\n",
    "        print \"%d\\t%s\" % (occur, word)\n",
    "    except ValueError as e:\n",
    "        continue\n"
   ]
  },
  {
   "cell_type": "code",
   "execution_count": 51,
   "metadata": {},
   "outputs": [
    {
     "name": "stdout",
     "output_type": "stream",
     "text": [
      "Overwriting reducer2.py\n"
     ]
    }
   ],
   "source": [
    "%%writefile reducer2.py\n",
    "\n",
    "import sys\n",
    "\n",
    "current_key = None\n",
    "word_sum = 0\n",
    "\n",
    "for line in sys.stdin:\n",
    "    try:\n",
    "        count, key = line.strip().split('\\t', 1)\n",
    "        count = int(count)\n",
    "        print \"%s\\t%d\" % (key, count)\n",
    "    except ValueError as e:\n",
    "        continue\n",
    "    "
   ]
  },
  {
   "cell_type": "code",
   "execution_count": null,
   "metadata": {},
   "outputs": [],
   "source": []
  },
  {
   "cell_type": "code",
   "execution_count": 58,
   "metadata": {},
   "outputs": [
    {
     "name": "stderr",
     "output_type": "stream",
     "text": [
      "rm: `wordcount_final_1509376335369044': No such file or directory\n",
      "17/10/30 15:12:25 INFO client.RMProxy: Connecting to ResourceManager at /0.0.0.0:8032\n",
      "17/10/30 15:12:25 INFO client.RMProxy: Connecting to ResourceManager at /0.0.0.0:8032\n",
      "17/10/30 15:12:27 INFO mapred.FileInputFormat: Total input files to process : 8\n",
      "17/10/30 15:12:28 INFO mapreduce.JobSubmitter: number of splits:8\n",
      "17/10/30 15:12:28 INFO Configuration.deprecation: mapred.text.key.comparator.options is deprecated. Instead, use mapreduce.partition.keycomparator.options\n",
      "17/10/30 15:12:28 INFO Configuration.deprecation: mapred.output.key.comparator.class is deprecated. Instead, use mapreduce.job.output.key.comparator.class\n",
      "17/10/30 15:12:29 INFO mapreduce.JobSubmitter: Submitting tokens for job: job_1509358298059_0014\n",
      "17/10/30 15:12:30 INFO impl.YarnClientImpl: Submitted application application_1509358298059_0014\n",
      "17/10/30 15:12:30 INFO mapreduce.Job: The url to track the job: http://88af4050f0b1:8088/proxy/application_1509358298059_0014/\n",
      "17/10/30 15:12:30 INFO mapreduce.Job: Running job: job_1509358298059_0014\n",
      "17/10/30 15:12:48 INFO mapreduce.Job: Job job_1509358298059_0014 running in uber mode : false\n",
      "17/10/30 15:12:48 INFO mapreduce.Job:  map 0% reduce 0%\n",
      "17/10/30 15:13:34 INFO mapreduce.Job:  map 13% reduce 0%\n",
      "17/10/30 15:13:43 INFO mapreduce.Job:  map 63% reduce 0%\n",
      "17/10/30 15:13:50 INFO mapreduce.Job:  map 75% reduce 0%\n",
      "17/10/30 15:14:09 INFO mapreduce.Job:  map 88% reduce 0%\n",
      "17/10/30 15:14:11 INFO mapreduce.Job:  map 100% reduce 0%\n",
      "17/10/30 15:14:17 INFO mapreduce.Job:  map 100% reduce 100%\n",
      "17/10/30 15:14:18 INFO mapreduce.Job: Job job_1509358298059_0014 completed successfully\n",
      "17/10/30 15:14:19 INFO mapreduce.Job: Counters: 50\n",
      "\tFile System Counters\n",
      "\t\tFILE: Number of bytes read=6224888\n",
      "\t\tFILE: Number of bytes written=13709844\n",
      "\t\tFILE: Number of read operations=0\n",
      "\t\tFILE: Number of large read operations=0\n",
      "\t\tFILE: Number of write operations=0\n",
      "\t\tHDFS: Number of bytes read=5371553\n",
      "\t\tHDFS: Number of bytes written=5370513\n",
      "\t\tHDFS: Number of read operations=27\n",
      "\t\tHDFS: Number of large read operations=0\n",
      "\t\tHDFS: Number of write operations=2\n",
      "\tJob Counters \n",
      "\t\tKilled map tasks=2\n",
      "\t\tLaunched map tasks=9\n",
      "\t\tLaunched reduce tasks=1\n",
      "\t\tData-local map tasks=10\n",
      "\t\tTotal time spent by all maps in occupied slots (ms)=372022\n",
      "\t\tTotal time spent by all reduces in occupied slots (ms)=31088\n",
      "\t\tTotal time spent by all map tasks (ms)=372022\n",
      "\t\tTotal time spent by all reduce tasks (ms)=31088\n",
      "\t\tTotal vcore-milliseconds taken by all map tasks=372022\n",
      "\t\tTotal vcore-milliseconds taken by all reduce tasks=31088\n",
      "\t\tTotal megabyte-milliseconds taken by all map tasks=380950528\n",
      "\t\tTotal megabyte-milliseconds taken by all reduce tasks=31834112\n",
      "\tMap-Reduce Framework\n",
      "\t\tMap input records=427175\n",
      "\t\tMap output records=427175\n",
      "\t\tMap output bytes=5370522\n",
      "\t\tMap output materialized bytes=6224930\n",
      "\t\tInput split bytes=1040\n",
      "\t\tCombine input records=0\n",
      "\t\tCombine output records=0\n",
      "\t\tReduce input groups=2075\n",
      "\t\tReduce shuffle bytes=6224930\n",
      "\t\tReduce input records=427175\n",
      "\t\tReduce output records=427175\n",
      "\t\tSpilled Records=854350\n",
      "\t\tShuffled Maps =8\n",
      "\t\tFailed Shuffles=0\n",
      "\t\tMerged Map outputs=8\n",
      "\t\tGC time elapsed (ms)=7731\n",
      "\t\tCPU time spent (ms)=27810\n",
      "\t\tPhysical memory (bytes) snapshot=2334294016\n",
      "\t\tVirtual memory (bytes) snapshot=17579143168\n",
      "\t\tTotal committed heap usage (bytes)=1762131968\n",
      "\tShuffle Errors\n",
      "\t\tBAD_ID=0\n",
      "\t\tCONNECTION=0\n",
      "\t\tIO_ERROR=0\n",
      "\t\tWRONG_LENGTH=0\n",
      "\t\tWRONG_MAP=0\n",
      "\t\tWRONG_REDUCE=0\n",
      "\tFile Input Format Counters \n",
      "\t\tBytes Read=5370513\n",
      "\tFile Output Format Counters \n",
      "\t\tBytes Written=5370513\n",
      "17/10/30 15:14:19 INFO streaming.StreamJob: Output directory: wordcount_final_1509376335369044\n"
     ]
    }
   ],
   "source": [
    "%%bash\n",
    "\n",
    "OUT_DIR=\"wordcount_final_\"$(date +\"%s%6N\")\n",
    "NUM_REDUCERS=1\n",
    "\n",
    "hdfs dfs -rm -r -skipTrash ${OUT_DIR} > /dev/null\n",
    "\n",
    "yarn jar /opt/cloudera/parcels/CDH/lib/hadoop-mapreduce/hadoop-streaming.jar \\\n",
    "    -D mapred.jab.name=\"Streaming wordCount\" \\\n",
    "    -D mapred.output.key.comparator.class=org.apache.hadoop.mapred.lib.KeyFieldBasedComparator \\\n",
    "    -D mapred.text.key.comparator.options=-nr \\\n",
    "    -D mapreduce.job.reduces=${NUM_REDUCERS} \\\n",
    "    -files mapper2.py,reducer2.py \\\n",
    "    -mapper \"python mapper2.py\" \\\n",
    "    -reducer \"python reducer2.py\" \\\n",
    "    -input \"/user/jovyan/wordcount_result_1509367830113721\" \\\n",
    "    -output ${OUT_DIR} > /dev/null\n",
    "\n",
    "#hdfs dfs -cat ${OUT_DIR}/part-00000 | head"
   ]
  },
  {
   "cell_type": "code",
   "execution_count": 59,
   "metadata": {},
   "outputs": [
    {
     "name": "stdout",
     "output_type": "stream",
     "text": [
      "is\t126420\r\n",
      "cat: Unable to write to output stream.\r\n"
     ]
    }
   ],
   "source": [
    "! hdfs dfs -cat wordcount_final_1509376335369044/part-00000 | head -7 | tail -1"
   ]
  },
  {
   "cell_type": "code",
   "execution_count": null,
   "metadata": {},
   "outputs": [],
   "source": []
  }
 ],
 "metadata": {
  "kernelspec": {
   "display_name": "Python 2",
   "language": "python",
   "name": "python2"
  },
  "language_info": {
   "codemirror_mode": {
    "name": "ipython",
    "version": 2
   },
   "file_extension": ".py",
   "mimetype": "text/x-python",
   "name": "python",
   "nbconvert_exporter": "python",
   "pygments_lexer": "ipython2",
   "version": "2.7.12"
  }
 },
 "nbformat": 4,
 "nbformat_minor": 2
}
