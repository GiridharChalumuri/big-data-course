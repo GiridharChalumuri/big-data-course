{
 "cells": [
  {
   "cell_type": "markdown",
   "metadata": {},
   "source": [
    "RDD"
   ]
  },
  {
   "cell_type": "markdown",
   "metadata": {},
   "source": [
    "RDD is a read-only, partitioned collection of records. A developer can access the partitions and create iterators over them. RDD tracks dependencies."
   ]
  },
  {
   "cell_type": "markdown",
   "metadata": {},
   "source": [
    "**Transformations 1**"
   ]
  },
  {
   "cell_type": "markdown",
   "metadata": {},
   "source": [
    "flatMap over an existing RDD for creating a new one"
   ]
  },
  {
   "cell_type": "markdown",
   "metadata": {},
   "source": [
    "**Transformations 2**"
   ]
  },
  {
   "cell_type": "markdown",
   "metadata": {},
   "source": [
    "groupByKey - groups all values with the same key into the array a([7,1])\n",
    "reduceByKey - folds all values with the same key using the given function f a([8])\n",
    "\n",
    "cogroup - given two keyed RDDs, groups all values with the same key. Returns a triple (k, X-values, Y-value) for every key where X-values are all values found under the key k in X and Y-values are similar\n",
    "\n",
    "a ([7, 1], [5])\n",
    "\n",
    "join - returns all matching items in two datasets\n",
    "a 7 5\n",
    "leftOuterJoin, rightOuterJoin, fullOuterJoin\n",
    "\n"
   ]
  },
  {
   "cell_type": "markdown",
   "metadata": {},
   "source": [
    "**Actions**<br>\n",
    "Actions trigger computation and processing of the dataset. Are executed by executors and pass result back to driver."
   ]
  },
  {
   "cell_type": "markdown",
   "metadata": {},
   "source": []
  }
 ],
 "metadata": {
  "kernelspec": {
   "display_name": "Python 3",
   "language": "python",
   "name": "python3"
  },
  "language_info": {
   "codemirror_mode": {
    "name": "ipython",
    "version": 3
   },
   "file_extension": ".py",
   "mimetype": "text/x-python",
   "name": "python",
   "nbconvert_exporter": "python",
   "pygments_lexer": "ipython3",
   "version": "3.6.1"
  }
 },
 "nbformat": 4,
 "nbformat_minor": 2
}
