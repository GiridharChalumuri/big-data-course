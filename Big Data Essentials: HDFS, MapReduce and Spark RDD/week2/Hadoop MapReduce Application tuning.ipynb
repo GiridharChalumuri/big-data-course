{
 "cells": [
  {
   "cell_type": "markdown",
   "metadata": {},
   "source": [
    "Combiner"
   ]
  },
  {
   "cell_type": "code",
   "execution_count": null,
   "metadata": {
    "collapsed": true
   },
   "outputs": [],
   "source": [
    "HADOOP_STREAMING_JAR = '/path_to_jar'\n",
    "yarn jar $HADOOP_STREAMING_JAR \\\n",
    "-files mapper.py, reducer.py \\\n",
    "-mapper 'python mapper.py' \\\n",
    "-reducer 'python reducer.py' \\\n",
    "-combiner 'python reducer.py' \\\n",
    "-numReduceTasks 1 \\\n",
    "-input /data/wiki/articles \\\n",
    "-output wc_folder    "
   ]
  },
  {
   "cell_type": "code",
   "execution_count": null,
   "metadata": {
    "collapsed": true
   },
   "outputs": [],
   "source": []
  },
  {
   "cell_type": "markdown",
   "metadata": {},
   "source": [
    "Partitioner"
   ]
  },
  {
   "cell_type": "code",
   "execution_count": null,
   "metadata": {
    "collapsed": true
   },
   "outputs": [],
   "source": [
    "HADOOP_STREAMING_JAR = '/path_to_jar'\n",
    "yarn jar $HADOOP_STREAMING_JAR \\\n",
    "-D stream.num.map.output.key.fields=2 \\\n",
    "-files mapper.py, reducer.py \\\n",
    "-mapper 'python mapper.py' \\\n",
    "-reducer 'python reducer.py' \\\n",
    "-numReduceTasks 1 \\\n",
    "-input /data/wiki/articles \\\n",
    "-output wc_folder    "
   ]
  },
  {
   "cell_type": "markdown",
   "metadata": {},
   "source": [
    "Comparator"
   ]
  },
  {
   "cell_type": "code",
   "execution_count": 1,
   "metadata": {
    "collapsed": true
   },
   "outputs": [],
   "source": [
    "# sort keys"
   ]
  },
  {
   "cell_type": "code",
   "execution_count": 4,
   "metadata": {},
   "outputs": [],
   "source": [
    "a = {'one':7, \"two\":1, \"three\":10}\n",
    "a = sorted(a.items(), key=lambda x: x[1], reverse=True)[2]"
   ]
  },
  {
   "cell_type": "code",
   "execution_count": 5,
   "metadata": {},
   "outputs": [
    {
     "data": {
      "text/plain": [
       "('two', 1)"
      ]
     },
     "execution_count": 5,
     "metadata": {},
     "output_type": "execute_result"
    }
   ],
   "source": [
    "a"
   ]
  },
  {
   "cell_type": "code",
   "execution_count": null,
   "metadata": {
    "collapsed": true
   },
   "outputs": [],
   "source": []
  }
 ],
 "metadata": {
  "kernelspec": {
   "display_name": "Python 3",
   "language": "python",
   "name": "python3"
  },
  "language_info": {
   "codemirror_mode": {
    "name": "ipython",
    "version": 3
   },
   "file_extension": ".py",
   "mimetype": "text/x-python",
   "name": "python",
   "nbconvert_exporter": "python",
   "pygments_lexer": "ipython3",
   "version": "3.6.1"
  }
 },
 "nbformat": 4,
 "nbformat_minor": 2
}
