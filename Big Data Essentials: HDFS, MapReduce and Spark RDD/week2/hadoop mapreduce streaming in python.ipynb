{
 "cells": [
  {
   "cell_type": "code",
   "execution_count": null,
   "metadata": {
    "collapsed": true
   },
   "outputs": [],
   "source": [
    "man locate"
   ]
  },
  {
   "cell_type": "code",
   "execution_count": null,
   "metadata": {
    "collapsed": true
   },
   "outputs": [],
   "source": [
    "# reducer.sh\n",
    "awk '{line_count += $1} END { print line_count}'"
   ]
  },
  {
   "cell_type": "code",
   "execution_count": null,
   "metadata": {
    "collapsed": true
   },
   "outputs": [],
   "source": []
  },
  {
   "cell_type": "code",
   "execution_count": null,
   "metadata": {
    "collapsed": true
   },
   "outputs": [],
   "source": [
    "HADOOP_STREAMING_JAR = '/path_to_jar'\n",
    "yarn jar $HADOOP_STREAMING_JAR \\\n",
    "-mapper 'wc -l' \\\n",
    "-reducer './reducer.sh' \\\n",
    "-files reducer.sh \\\n",
    "-numReduceTasks 1 \\\n",
    "-input /data/wiki/articles \\\n",
    "-output wc_folder          "
   ]
  },
  {
   "cell_type": "code",
   "execution_count": null,
   "metadata": {
    "collapsed": true
   },
   "outputs": [],
   "source": [
    "#mapper.py\n",
    "import sys\n",
    "\n",
    "line_count = 0\n",
    "for line in sys.stdin:\n",
    "    line_count += 1\n",
    "print(line_count)"
   ]
  },
  {
   "cell_type": "code",
   "execution_count": null,
   "metadata": {
    "collapsed": true
   },
   "outputs": [],
   "source": [
    "# reducer.py\n",
    "import sys\n",
    "line_count = sum(int(value) for value in sys.stdin)\n",
    "print(line_count)"
   ]
  },
  {
   "cell_type": "code",
   "execution_count": null,
   "metadata": {
    "collapsed": true
   },
   "outputs": [],
   "source": [
    "HADOOP_STREAMING_JAR = '/path_to_jar'\n",
    "yarn jar $HADOOP_STREAMING_JAR \\\n",
    "-files mapper.py, reducer.py \\\n",
    "-mapper 'python mapper.py' \\\n",
    "-reducer './reducer.sh' \\\n",
    "-numReduceTasks 1 \\\n",
    "-input /data/wiki/articles \\\n",
    "-output wc_folder          "
   ]
  },
  {
   "cell_type": "code",
   "execution_count": null,
   "metadata": {
    "collapsed": true
   },
   "outputs": [],
   "source": []
  },
  {
   "cell_type": "markdown",
   "metadata": {},
   "source": [
    "# fully in python"
   ]
  },
  {
   "cell_type": "code",
   "execution_count": 2,
   "metadata": {
    "collapsed": true
   },
   "outputs": [],
   "source": [
    "#mapper.py\n",
    "\n",
    "import re, sys\n",
    "for line in sys.stdin:\n",
    "    article_id, content = line.split(\"\\t\", 1)\n",
    "    words = re.split(\"\\W+\", content)\n",
    "    for word in words:\n",
    "        if word:\n",
    "            print(word, 1, sep=\"\\t\")\n",
    "            "
   ]
  },
  {
   "cell_type": "code",
   "execution_count": 3,
   "metadata": {
    "collapsed": true
   },
   "outputs": [],
   "source": [
    "# reducer.py\n",
    "import sys\n",
    "current_word = None\n",
    "word_count = 0\n",
    "for line in sys.stdin:\n",
    "    word, counts = line.split(\"\\t\", 1)\n",
    "    counts = int(counts)\n",
    "    if word == current_word:\n",
    "        word_count += counts\n",
    "    else:\n",
    "        if current_word:\n",
    "            print(current_word, word_count, sep=\"\\t\")\n",
    "        current_word = word\n",
    "        word_count = counts\n",
    "if current_word:\n",
    "    print(current_word, word_count, sep=\"\\t\")"
   ]
  },
  {
   "cell_type": "code",
   "execution_count": null,
   "metadata": {
    "collapsed": true
   },
   "outputs": [],
   "source": [
    "HADOOP_STREAMING_JAR = '/path_to_jar'\n",
    "yarn jar $HADOOP_STREAMING_JAR \\\n",
    "-files mapper.py, reducer.py \\\n",
    "-mapper 'python mapper.py' \\\n",
    "-reducer 'python reducer.py' \\\n",
    "-numReduceTasks 1 \\\n",
    "-input /data/wiki/articles \\\n",
    "-output wc_folder    "
   ]
  },
  {
   "cell_type": "code",
   "execution_count": null,
   "metadata": {
    "collapsed": true
   },
   "outputs": [],
   "source": []
  },
  {
   "cell_type": "code",
   "execution_count": null,
   "metadata": {
    "collapsed": true
   },
   "outputs": [],
   "source": [
    "tar -cf names.tar male.txt female.txt\n",
    "\n",
    "#mapper.py\n",
    "\n",
    "import re, sys\n",
    "\n",
    "\n",
    "\n",
    "def read_vocab(file_path):\n",
    "    return set(word.strip() for word in open(file_path))\n",
    "\n",
    "male_names = read_vocab(\"names.tar/male.txt\")\n",
    "female_names = read_vocab(\"names.tar/female.txt\")\n",
    "\n",
    "    \n",
    "for line in sys.stdin:\n",
    "    article_id, content = line.split(\"\\t\", 1)\n",
    "    words = re.split(\"\\W+\", content)\n",
    "    for word in words:\n",
    "        if word:\n",
    "            if word in male_names or word in female_names:\n",
    "                print(word, 1, sep=\"\\t\")\n",
    "#####            \n",
    "            \n",
    "            \n",
    "HADOOP_STREAMING_JAR = '/path_to_jar'\n",
    "yarn jar $HADOOP_STREAMING_JAR \\\n",
    "-files mapper.py, reducer.py \\\n",
    "-archives names.tar\n",
    "-mapper 'python mapper.py' \\\n",
    "-reducer 'python reducer.py' \\\n",
    "-numReduceTasks 1 \\\n",
    "-input /data/wiki/articles \\\n",
    "-output wc_folder    "
   ]
  },
  {
   "cell_type": "code",
   "execution_count": null,
   "metadata": {
    "collapsed": true
   },
   "outputs": [],
   "source": []
  },
  {
   "cell_type": "markdown",
   "metadata": {},
   "source": [
    "# Environment\n"
   ]
  },
  {
   "cell_type": "code",
   "execution_count": null,
   "metadata": {
    "collapsed": true
   },
   "outputs": [],
   "source": [
    "HADOOP_STREAMING_JAR = '/path_to_jar'\n",
    "\n",
    "yarn jar $HADOOP_STREAMING_JAR -D word_pattern=\"\\w+\\d+\" \\\n",
    "-files mapper.py, reducer.py \\\n",
    "-archives names.tar\n",
    "-mapper 'python mapper.py' \\\n",
    "-reducer 'python reducer.py' \\\n",
    "-numReduceTasks 1 \\\n",
    "-input /data/wiki/articles \\\n",
    "-output wc_folder"
   ]
  },
  {
   "cell_type": "code",
   "execution_count": null,
   "metadata": {
    "collapsed": true
   },
   "outputs": [],
   "source": []
  },
  {
   "cell_type": "code",
   "execution_count": null,
   "metadata": {
    "collapsed": true
   },
   "outputs": [],
   "source": []
  },
  {
   "cell_type": "code",
   "execution_count": null,
   "metadata": {
    "collapsed": true
   },
   "outputs": [],
   "source": []
  }
 ],
 "metadata": {
  "kernelspec": {
   "display_name": "Python 3",
   "language": "python",
   "name": "python3"
  },
  "language_info": {
   "codemirror_mode": {
    "name": "ipython",
    "version": 3
   },
   "file_extension": ".py",
   "mimetype": "text/x-python",
   "name": "python",
   "nbconvert_exporter": "python",
   "pygments_lexer": "ipython3",
   "version": "3.6.1"
  }
 },
 "nbformat": 4,
 "nbformat_minor": 2
}
