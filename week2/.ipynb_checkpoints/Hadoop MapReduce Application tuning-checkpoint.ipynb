{
 "cells": [
  {
   "cell_type": "markdown",
   "metadata": {},
   "source": [
    "Combiner"
   ]
  },
  {
   "cell_type": "code",
   "execution_count": null,
   "metadata": {
    "collapsed": true
   },
   "outputs": [],
   "source": [
    "HADOOP_STREAMING_JAR = '/path_to_jar'\n",
    "yarn jar $HADOOP_STREAMING_JAR \\\n",
    "-files mapper.py, reducer.py \\\n",
    "-mapper 'python mapper.py' \\\n",
    "-reducer 'python reducer.py' \\\n",
    "-combiner 'python reducer.py' \\\n",
    "-numReduceTasks 1 \\\n",
    "-input /data/wiki/articles \\\n",
    "-output wc_folder    "
   ]
  },
  {
   "cell_type": "code",
   "execution_count": null,
   "metadata": {
    "collapsed": true
   },
   "outputs": [],
   "source": []
  },
  {
   "cell_type": "markdown",
   "metadata": {},
   "source": [
    "Partitioner"
   ]
  },
  {
   "cell_type": "code",
   "execution_count": null,
   "metadata": {
    "collapsed": true
   },
   "outputs": [],
   "source": [
    "HADOOP_STREAMING_JAR = '/path_to_jar'\n",
    "yarn jar $HADOOP_STREAMING_JAR \\\n",
    "-D stream.num.map.output.key.fields=2 \\\n",
    "-files mapper.py, reducer.py \\\n",
    "-mapper 'python mapper.py' \\\n",
    "-reducer 'python reducer.py' \\\n",
    "-numReduceTasks 1 \\\n",
    "-input /data/wiki/articles \\\n",
    "-output wc_folder    "
   ]
  },
  {
   "cell_type": "markdown",
   "metadata": {},
   "source": [
    "Comparator"
   ]
  },
  {
   "cell_type": "code",
   "execution_count": null,
   "metadata": {
    "collapsed": true
   },
   "outputs": [],
   "source": []
  },
  {
   "cell_type": "code",
   "execution_count": null,
   "metadata": {
    "collapsed": true
   },
   "outputs": [],
   "source": []
  }
 ],
 "metadata": {
  "kernelspec": {
   "display_name": "Python 3",
   "language": "python",
   "name": "python3"
  },
  "language_info": {
   "codemirror_mode": {
    "name": "ipython",
    "version": 3
   },
   "file_extension": ".py",
   "mimetype": "text/x-python",
   "name": "python",
   "nbconvert_exporter": "python",
   "pygments_lexer": "ipython3",
   "version": "3.6.2"
  }
 },
 "nbformat": 4,
 "nbformat_minor": 2
}
