{
 "cells": [
  {
   "cell_type": "code",
   "execution_count": null,
   "metadata": {
    "collapsed": true
   },
   "outputs": [],
   "source": [
    "hdfs dfs -help\n",
    "\n",
    "hdfs namenode\n",
    "hdfs datanode\n",
    "\n",
    "# namenode\n",
    "hdfs dfs -ls -R -h /data/wiki\n",
    "hdfs dfs -du -h /data/wiki (size with replicas)\n",
    "dfs dfs -mkdir -p deep/nested/file\n",
    "hdfs dfs -rm deep or -rm -r deep\n",
    "hdfs dfs -touchz file.txt\n",
    "hdfs dfs -mv file.txt another_file.txt\n",
    "\n",
    "\n",
    "#datanode\n",
    "hdfs dfs -put <source> <HDFS destination> (from local to hdfs)\n",
    "hdfs dfs -cat file.txt | head -4\n",
    "hdfs dfs -cat file.txt | tail -4\n",
    "hdfs dfs -tail file.txt\n",
    "\n",
    "hdfs dfs -cp file.txt file_copy.txt\n",
    "hdfs dfs -get hdfs_test* . (download locally)\n",
    "hdfs dfs -getmerge hdfs_test* file.txt (all data merged to file)\n",
    "\n",
    "\n",
    "hdfs fsck /data/wiki/en_articles -files -blocks\n",
    "hdfs fsck -blockId blk_01234\n",
    "\n",
    "hdfs dfs -find /data/wiki -name ''*part*''\n",
    "hdfs dfs -fins /data -name ''*part*'' - iname ''*Article*''\n"
   ]
  },
  {
   "cell_type": "code",
   "execution_count": null,
   "metadata": {
    "collapsed": true
   },
   "outputs": [],
   "source": [
    "curl -i -L google.com"
   ]
  }
 ],
 "metadata": {
  "kernelspec": {
   "display_name": "Python 3",
   "language": "python",
   "name": "python3"
  },
  "language_info": {
   "codemirror_mode": {
    "name": "ipython",
    "version": 3
   },
   "file_extension": ".py",
   "mimetype": "text/x-python",
   "name": "python",
   "nbconvert_exporter": "python",
   "pygments_lexer": "ipython3",
   "version": "3.6.1"
  }
 },
 "nbformat": 4,
 "nbformat_minor": 2
}
